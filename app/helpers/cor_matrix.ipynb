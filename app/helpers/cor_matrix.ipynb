{
 "metadata": {
  "language_info": {
   "codemirror_mode": {
    "name": "ipython",
    "version": 3
   },
   "file_extension": ".py",
   "mimetype": "text/x-python",
   "name": "python",
   "nbconvert_exporter": "python",
   "pygments_lexer": "ipython3",
   "version": "3.7.4"
  },
  "orig_nbformat": 4,
  "kernelspec": {
   "name": "python3",
   "display_name": "Python 3.7.4 64-bit ('base': conda)"
  },
  "interpreter": {
   "hash": "b3ba2566441a7c06988d0923437866b63cedc61552a5af99d1f4fb67d367b25f"
  }
 },
 "nbformat": 4,
 "nbformat_minor": 2,
 "cells": [
  {
   "cell_type": "code",
   "execution_count": 1,
   "metadata": {},
   "outputs": [],
   "source": [
    "import pandas as pd\n",
    "import matplotlib.pyplot as plt\n",
    "\n",
    "df1 = pd.read_csv('../data/datatest.csv').drop(['sn','date'],axis=1)\n",
    "df2 = pd.read_csv('../data/datatest2.csv').drop(['sn','date'],axis=1)\n",
    "df3 = pd.read_csv('../data/datatraining.csv').drop(['sn','date'],axis=1)\n",
    "df = df1.append(df2).append(df3)"
   ]
  },
  {
   "cell_type": "code",
   "execution_count": 2,
   "metadata": {},
   "outputs": [
    {
     "output_type": "execute_result",
     "data": {
      "text/plain": [
       "<pandas.io.formats.style.Styler at 0x2471ce1cdc8>"
      ],
      "text/html": "<style  type=\"text/css\" >\n    #T_09acc938_e684_11eb_85f7_d4258bd9ea44row0_col0 {\n            background-color:  #b40426;\n            color:  #f1f1f1;\n        }    #T_09acc938_e684_11eb_85f7_d4258bd9ea44row0_col1 {\n            background-color:  #3b4cc0;\n            color:  #f1f1f1;\n        }    #T_09acc938_e684_11eb_85f7_d4258bd9ea44row0_col2 {\n            background-color:  #f5a081;\n            color:  #000000;\n        }    #T_09acc938_e684_11eb_85f7_d4258bd9ea44row0_col3 {\n            background-color:  #e3d9d3;\n            color:  #000000;\n        }    #T_09acc938_e684_11eb_85f7_d4258bd9ea44row0_col4 {\n            background-color:  #a3c2fe;\n            color:  #000000;\n        }    #T_09acc938_e684_11eb_85f7_d4258bd9ea44row0_col5 {\n            background-color:  #f3c7b1;\n            color:  #000000;\n        }    #T_09acc938_e684_11eb_85f7_d4258bd9ea44row1_col0 {\n            background-color:  #3b4cc0;\n            color:  #f1f1f1;\n        }    #T_09acc938_e684_11eb_85f7_d4258bd9ea44row1_col1 {\n            background-color:  #b40426;\n            color:  #f1f1f1;\n        }    #T_09acc938_e684_11eb_85f7_d4258bd9ea44row1_col2 {\n            background-color:  #5d7ce6;\n            color:  #000000;\n        }    #T_09acc938_e684_11eb_85f7_d4258bd9ea44row1_col3 {\n            background-color:  #bfd3f6;\n            color:  #000000;\n        }    #T_09acc938_e684_11eb_85f7_d4258bd9ea44row1_col4 {\n            background-color:  #c83836;\n            color:  #f1f1f1;\n        }    #T_09acc938_e684_11eb_85f7_d4258bd9ea44row1_col5 {\n            background-color:  #7295f4;\n            color:  #000000;\n        }    #T_09acc938_e684_11eb_85f7_d4258bd9ea44row2_col0 {\n            background-color:  #f5a081;\n            color:  #000000;\n        }    #T_09acc938_e684_11eb_85f7_d4258bd9ea44row2_col1 {\n            background-color:  #5d7ce6;\n            color:  #000000;\n        }    #T_09acc938_e684_11eb_85f7_d4258bd9ea44row2_col2 {\n            background-color:  #b40426;\n            color:  #f1f1f1;\n        }    #T_09acc938_e684_11eb_85f7_d4258bd9ea44row2_col3 {\n            background-color:  #e2dad5;\n            color:  #000000;\n        }    #T_09acc938_e684_11eb_85f7_d4258bd9ea44row2_col4 {\n            background-color:  #a9c6fd;\n            color:  #000000;\n        }    #T_09acc938_e684_11eb_85f7_d4258bd9ea44row2_col5 {\n            background-color:  #cd423b;\n            color:  #f1f1f1;\n        }    #T_09acc938_e684_11eb_85f7_d4258bd9ea44row3_col0 {\n            background-color:  #e3d9d3;\n            color:  #000000;\n        }    #T_09acc938_e684_11eb_85f7_d4258bd9ea44row3_col1 {\n            background-color:  #bfd3f6;\n            color:  #000000;\n        }    #T_09acc938_e684_11eb_85f7_d4258bd9ea44row3_col2 {\n            background-color:  #e2dad5;\n            color:  #000000;\n        }    #T_09acc938_e684_11eb_85f7_d4258bd9ea44row3_col3 {\n            background-color:  #b40426;\n            color:  #f1f1f1;\n        }    #T_09acc938_e684_11eb_85f7_d4258bd9ea44row3_col4 {\n            background-color:  #e9d5cb;\n            color:  #000000;\n        }    #T_09acc938_e684_11eb_85f7_d4258bd9ea44row3_col5 {\n            background-color:  #edd2c3;\n            color:  #000000;\n        }    #T_09acc938_e684_11eb_85f7_d4258bd9ea44row4_col0 {\n            background-color:  #a3c2fe;\n            color:  #000000;\n        }    #T_09acc938_e684_11eb_85f7_d4258bd9ea44row4_col1 {\n            background-color:  #c83836;\n            color:  #f1f1f1;\n        }    #T_09acc938_e684_11eb_85f7_d4258bd9ea44row4_col2 {\n            background-color:  #a9c6fd;\n            color:  #000000;\n        }    #T_09acc938_e684_11eb_85f7_d4258bd9ea44row4_col3 {\n            background-color:  #e9d5cb;\n            color:  #000000;\n        }    #T_09acc938_e684_11eb_85f7_d4258bd9ea44row4_col4 {\n            background-color:  #b40426;\n            color:  #f1f1f1;\n        }    #T_09acc938_e684_11eb_85f7_d4258bd9ea44row4_col5 {\n            background-color:  #b2ccfb;\n            color:  #000000;\n        }    #T_09acc938_e684_11eb_85f7_d4258bd9ea44row5_col0 {\n            background-color:  #f3c7b1;\n            color:  #000000;\n        }    #T_09acc938_e684_11eb_85f7_d4258bd9ea44row5_col1 {\n            background-color:  #7295f4;\n            color:  #000000;\n        }    #T_09acc938_e684_11eb_85f7_d4258bd9ea44row5_col2 {\n            background-color:  #cd423b;\n            color:  #f1f1f1;\n        }    #T_09acc938_e684_11eb_85f7_d4258bd9ea44row5_col3 {\n            background-color:  #edd2c3;\n            color:  #000000;\n        }    #T_09acc938_e684_11eb_85f7_d4258bd9ea44row5_col4 {\n            background-color:  #b2ccfb;\n            color:  #000000;\n        }    #T_09acc938_e684_11eb_85f7_d4258bd9ea44row5_col5 {\n            background-color:  #b40426;\n            color:  #f1f1f1;\n        }</style><table id=\"T_09acc938_e684_11eb_85f7_d4258bd9ea44\" ><thead>    <tr>        <th class=\"blank level0\" ></th>        <th class=\"col_heading level0 col0\" >Temperature</th>        <th class=\"col_heading level0 col1\" >Humidity</th>        <th class=\"col_heading level0 col2\" >Light</th>        <th class=\"col_heading level0 col3\" >CO2</th>        <th class=\"col_heading level0 col4\" >HumidityRatio</th>        <th class=\"col_heading level0 col5\" >Occupancy</th>    </tr></thead><tbody>\n                <tr>\n                        <th id=\"T_09acc938_e684_11eb_85f7_d4258bd9ea44level0_row0\" class=\"row_heading level0 row0\" >Temperature</th>\n                        <td id=\"T_09acc938_e684_11eb_85f7_d4258bd9ea44row0_col0\" class=\"data row0 col0\" >1</td>\n                        <td id=\"T_09acc938_e684_11eb_85f7_d4258bd9ea44row0_col1\" class=\"data row0 col1\" >-0.16</td>\n                        <td id=\"T_09acc938_e684_11eb_85f7_d4258bd9ea44row0_col2\" class=\"data row0 col2\" >0.69</td>\n                        <td id=\"T_09acc938_e684_11eb_85f7_d4258bd9ea44row0_col3\" class=\"data row0 col3\" >0.45</td>\n                        <td id=\"T_09acc938_e684_11eb_85f7_d4258bd9ea44row0_col4\" class=\"data row0 col4\" >0.21</td>\n                        <td id=\"T_09acc938_e684_11eb_85f7_d4258bd9ea44row0_col5\" class=\"data row0 col5\" >0.56</td>\n            </tr>\n            <tr>\n                        <th id=\"T_09acc938_e684_11eb_85f7_d4258bd9ea44level0_row1\" class=\"row_heading level0 row1\" >Humidity</th>\n                        <td id=\"T_09acc938_e684_11eb_85f7_d4258bd9ea44row1_col0\" class=\"data row1 col0\" >-0.16</td>\n                        <td id=\"T_09acc938_e684_11eb_85f7_d4258bd9ea44row1_col1\" class=\"data row1 col1\" >1</td>\n                        <td id=\"T_09acc938_e684_11eb_85f7_d4258bd9ea44row1_col2\" class=\"data row1 col2\" >-0.029</td>\n                        <td id=\"T_09acc938_e684_11eb_85f7_d4258bd9ea44row1_col3\" class=\"data row1 col3\" >0.3</td>\n                        <td id=\"T_09acc938_e684_11eb_85f7_d4258bd9ea44row1_col4\" class=\"data row1 col4\" >0.93</td>\n                        <td id=\"T_09acc938_e684_11eb_85f7_d4258bd9ea44row1_col5\" class=\"data row1 col5\" >0.046</td>\n            </tr>\n            <tr>\n                        <th id=\"T_09acc938_e684_11eb_85f7_d4258bd9ea44level0_row2\" class=\"row_heading level0 row2\" >Light</th>\n                        <td id=\"T_09acc938_e684_11eb_85f7_d4258bd9ea44row2_col0\" class=\"data row2 col0\" >0.69</td>\n                        <td id=\"T_09acc938_e684_11eb_85f7_d4258bd9ea44row2_col1\" class=\"data row2 col1\" >-0.029</td>\n                        <td id=\"T_09acc938_e684_11eb_85f7_d4258bd9ea44row2_col2\" class=\"data row2 col2\" >1</td>\n                        <td id=\"T_09acc938_e684_11eb_85f7_d4258bd9ea44row2_col3\" class=\"data row2 col3\" >0.45</td>\n                        <td id=\"T_09acc938_e684_11eb_85f7_d4258bd9ea44row2_col4\" class=\"data row2 col4\" >0.22</td>\n                        <td id=\"T_09acc938_e684_11eb_85f7_d4258bd9ea44row2_col5\" class=\"data row2 col5\" >0.91</td>\n            </tr>\n            <tr>\n                        <th id=\"T_09acc938_e684_11eb_85f7_d4258bd9ea44level0_row3\" class=\"row_heading level0 row3\" >CO2</th>\n                        <td id=\"T_09acc938_e684_11eb_85f7_d4258bd9ea44row3_col0\" class=\"data row3 col0\" >0.45</td>\n                        <td id=\"T_09acc938_e684_11eb_85f7_d4258bd9ea44row3_col1\" class=\"data row3 col1\" >0.3</td>\n                        <td id=\"T_09acc938_e684_11eb_85f7_d4258bd9ea44row3_col2\" class=\"data row3 col2\" >0.45</td>\n                        <td id=\"T_09acc938_e684_11eb_85f7_d4258bd9ea44row3_col3\" class=\"data row3 col3\" >1</td>\n                        <td id=\"T_09acc938_e684_11eb_85f7_d4258bd9ea44row3_col4\" class=\"data row3 col4\" >0.48</td>\n                        <td id=\"T_09acc938_e684_11eb_85f7_d4258bd9ea44row3_col5\" class=\"data row3 col5\" >0.5</td>\n            </tr>\n            <tr>\n                        <th id=\"T_09acc938_e684_11eb_85f7_d4258bd9ea44level0_row4\" class=\"row_heading level0 row4\" >HumidityRatio</th>\n                        <td id=\"T_09acc938_e684_11eb_85f7_d4258bd9ea44row4_col0\" class=\"data row4 col0\" >0.21</td>\n                        <td id=\"T_09acc938_e684_11eb_85f7_d4258bd9ea44row4_col1\" class=\"data row4 col1\" >0.93</td>\n                        <td id=\"T_09acc938_e684_11eb_85f7_d4258bd9ea44row4_col2\" class=\"data row4 col2\" >0.22</td>\n                        <td id=\"T_09acc938_e684_11eb_85f7_d4258bd9ea44row4_col3\" class=\"data row4 col3\" >0.48</td>\n                        <td id=\"T_09acc938_e684_11eb_85f7_d4258bd9ea44row4_col4\" class=\"data row4 col4\" >1</td>\n                        <td id=\"T_09acc938_e684_11eb_85f7_d4258bd9ea44row4_col5\" class=\"data row4 col5\" >0.26</td>\n            </tr>\n            <tr>\n                        <th id=\"T_09acc938_e684_11eb_85f7_d4258bd9ea44level0_row5\" class=\"row_heading level0 row5\" >Occupancy</th>\n                        <td id=\"T_09acc938_e684_11eb_85f7_d4258bd9ea44row5_col0\" class=\"data row5 col0\" >0.56</td>\n                        <td id=\"T_09acc938_e684_11eb_85f7_d4258bd9ea44row5_col1\" class=\"data row5 col1\" >0.046</td>\n                        <td id=\"T_09acc938_e684_11eb_85f7_d4258bd9ea44row5_col2\" class=\"data row5 col2\" >0.91</td>\n                        <td id=\"T_09acc938_e684_11eb_85f7_d4258bd9ea44row5_col3\" class=\"data row5 col3\" >0.5</td>\n                        <td id=\"T_09acc938_e684_11eb_85f7_d4258bd9ea44row5_col4\" class=\"data row5 col4\" >0.26</td>\n                        <td id=\"T_09acc938_e684_11eb_85f7_d4258bd9ea44row5_col5\" class=\"data row5 col5\" >1</td>\n            </tr>\n    </tbody></table>"
     },
     "metadata": {},
     "execution_count": 2
    }
   ],
   "source": [
    "corr = df.corr()\n",
    "corr.style.background_gradient(cmap='coolwarm', axis=None).set_precision(2)"
   ]
  }
 ]
}